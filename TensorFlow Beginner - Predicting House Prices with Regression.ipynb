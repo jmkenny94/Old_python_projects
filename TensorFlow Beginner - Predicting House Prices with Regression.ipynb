   <th>3</th>\n",
       "      <td>3</td>\n",
       "      <td>2002</td>\n",
       "      <td>13</td>\n",
       "      <td>2</td>\n",
       "      <td>2</td>\n",
       "      <td>80</td>\n",
       "      <td>128</td>\n",
       "      <td>12029</td>\n",
       "    </tr>\n",
       "    <tr>\n",
       "      <th>4</th>\n",
       "      <td>4</td>\n",
       "      <td>2014</td>\n",
       "      <td>25</td>\n",
       "      <td>5</td>\n",
       "      <td>8</td>\n",
       "      <td>81</td>\n",
       "      <td>122</td>\n",
       "      <td>14157</td>\n",
       "    </tr>\n",
       "  </tbody>\n",
       "</table>\n",
       "</div>"
      ],
      "text/plain": [
       "   serial  date  age  distance  stores  latitude  longitude  price\n",
       "0       0  2009   21         9       6        84        121  14264\n",
       "1       1  2007    4         2       3        86        121  12032\n",
       "2       2  2016   18         3       7        90        120  13560\n",
       "3       3  2002   13         2       2        80        128  12029\n",
       "4       4  2014   25         5       8        81        122  14157"
      ]
     },
     "execution_count": 9,
     "metadata": {},
     "output_type": "execute_result"
    }
   ],
   "source": [
    "##Data is already loaded into cloud desktop.\n",
    "\n",
    "df = pd.read_csv('data.csv', names = column_names) #already declared column_names variable??\n",
    "df.head()"
   ]
  },
  {
   "cell_type": "markdown",
   "metadata": {},
   "source": [
    "## 2.2: Check Missing Data\n",
    "\n",
    "It's a good practice to check if the data has any missing values. In real world data, this is quite common and must be taken care of before any data pre-processing or model training."
   ]
  },
  {
   "cell_type": "code",
   "execution_count": 10,
   "metadata": {},
   "outputs": [
    {
     "data": {
      "text/plain": [
       "serial       0\n",
       "date         0\n",
       "age          0\n",
       "distance     0\n",
       "stores       0\n",
       "latitude     0\n",
       "longitude    0\n",
       "price        0\n",
       "dtype: int64"
      ]
     },
     "execution_count": 10,
     "metadata": {},
     "output_type": "execute_result"
    }
   ],
   "source": [
    "\n",
    "#isna returns true or false\n",
    "df.isna().sum()"
   ]
  },
  {
   "cell_type": "markdown",
   "metadata": {},
   "source": [
    "# Task 3: Data Normalization"
   ]
  },
  {
   "cell_type": "markdown",
   "metadata": {},
   "source": [
    "## 3.1: Data Normalization\n",
    "\n",
    "We can make it easier for optimization algorithms to find minimas by normalizing the data before training a model."
   ]
  },
  {
   "cell_type": "code",
   "execution_count": 11,
   "metadata": {},
   "outputs": [
    {
     "data": {
      "text/html": [
       "<div>\n",
       "<style scoped>\n",
       "    .dataframe tbody tr th:only-of-type {\n",
       "        vertical-align: middle;\n",
       "    }\n",
       "\n",
       "    .dataframe tbody tr th {\n",
       "        vertical-align: top;\n",
       "    }\n",
       "\n",
       "    .dataframe thead th {\n",
       "        text-align: right;\n",
       "    }\n",
       "</style>\n",
       "<table border=\"1\" class=\"dataframe\">\n",
       "  <thead>\n",
       "    <tr style=\"text-align: right;\">\n",
       "      <th></th>\n",
       "      <th>date</th>\n",
       "      <th>age</th>\n",
       "      <th>distance</th>\n",
       "      <th>stores</th>\n",
       "      <th>latitude</th>\n",
       "      <th>longitude</th>\n",
       "      <th>price</th>\n",
       "    </tr>\n",
       "  </thead>\n",
       "  <tbody>\n",
       "    <tr>\n",
       "      <th>0</th>\n",
       "      <td>0.015978</td>\n",
       "      <td>0.181384</td>\n",
       "      <td>1.257002</td>\n",
       "      <td>0.345224</td>\n",
       "      <td>-0.307212</td>\n",
       "      <td>-1.260799</td>\n",
       "      <td>0.350088</td>\n",
       "    </tr>\n",
       "    <tr>\n",
       "      <th>1</th>\n",
       "      <td>-0.350485</td>\n",
       "      <td>-1.319118</td>\n",
       "      <td>-0.930610</td>\n",
       "      <td>-0.609312</td>\n",
       "      <td>0.325301</td>\n",
       "      <td>-1.260799</td>\n",
       "      <td>-1.836486</td>\n",
       "    </tr>\n",
       "    <tr>\n",
       "      <th>2</th>\n",
       "      <td>1.298598</td>\n",
       "      <td>-0.083410</td>\n",
       "      <td>-0.618094</td>\n",
       "      <td>0.663402</td>\n",
       "      <td>1.590328</td>\n",
       "      <td>-1.576456</td>\n",
       "      <td>-0.339584</td>\n",
       "    </tr>\n",
       "    <tr>\n",
       "      <th>3</th>\n",
       "      <td>-1.266643</td>\n",
       "      <td>-0.524735</td>\n",
       "      <td>-0.930610</td>\n",
       "      <td>-0.927491</td>\n",
       "      <td>-1.572238</td>\n",
       "      <td>0.948803</td>\n",
       "      <td>-1.839425</td>\n",
       "    </tr>\n",
       "    <tr>\n",
       "      <th>4</th>\n",
       "      <td>0.932135</td>\n",
       "      <td>0.534444</td>\n",
       "      <td>0.006938</td>\n",
       "      <td>0.981581</td>\n",
       "      <td>-1.255981</td>\n",
       "      <td>-0.945141</td>\n",
       "      <td>0.245266</td>\n",
       "    </tr>\n",
       "  </tbody>\n",
       "</table>\n",
       "</div>"
      ],
      "text/plain": [
       "       date       age  distance    stores  latitude  longitude     price\n",
       "0  0.015978  0.181384  1.257002  0.345224 -0.307212  -1.260799  0.350088\n",
       "1 -0.350485 -1.319118 -0.930610 -0.609312  0.325301  -1.260799 -1.836486\n",
       "2  1.298598 -0.083410 -0.618094  0.663402  1.590328  -1.576456 -0.339584\n",
       "3 -1.266643 -0.524735 -0.930610 -0.927491 -1.572238   0.948803 -1.839425\n",
       "4  0.932135  0.534444  0.006938  0.981581 -1.255981  -0.945141  0.245266"
      ]
     },
     "execution_count": 11,
     "metadata": {},
     "output_type": "execute_result"
    }
   ],
   "source": [
    "#Drop the unneccesary, extra, index column\n",
    "df = df.iloc[:,1:] ## select data from [row1:3, column 1: all]\n",
    "\n",
    "df.head()\n",
    "dfnorm = (df - df.mean())/ df.std()\n",
    "dfnorm.head()\n",
    "\n",
    "##Date column is dropping for some reason??"
   ]
  },
  {
   "cell_type": "markdown",
   "metadata": {},
   "source": [
    "## 3.2: Convert Label Value\n",
    "\n",
    "Because we are using normalized values for the labels, we will get the predictions back from a trained model in the same distribution. So, we need to convert the predicted values back to the original distribution if we want predicted prices."
   ]
  },
  {
   "cell_type": "code",
   "execution_count": 12,
   "metadata": {},
   "outputs": [
    {
     "name": "stdout",
     "output_type": "stream",
     "text": [
      "14263\n"
     ]
    }
   ],
   "source": [
    "## Convert normalized values back into label values (normal prices in this case)!\n",
    "\n",
    "ymean = df['price'].mean() # want the mean of the original distribution\n",
    "\n",
    "ystd = df['price'].std()\n",
    "\n",
    "def convert_label_value(pred):\n",
    "    return int(pred * ystd + ymean)\n",
    "\n",
    "print(convert_label_value(0.350088))"
   ]
  },
  {
   "cell_type": "markdown",
   "metadata": {},
   "source": [
    "# Task 4: Create Training and Test Sets"
   ]
  },
  {
   "cell_type": "markdown",
   "metadata": {},
   "source": [
    "## 4.1: Select Features\n",
    "\n",
    "Make sure to remove the column __price__ from the list of features as it is the label and should not be used as a feature."
   ]
  },
  {
   "cell_type": "code",
   "execution_count": 14,
   "metadata": {},
   "outputs": [
    {
     "data": {
      "text/html": [
       "<div>\n",
       "<style scoped>\n",
       "    .dataframe tbody tr th:only-of-type {\n",
       "        vertical-align: middle;\n",
       "    }\n",
       "\n",
       "    .dataframe tbody tr th {\n",
       "        vertical-align: top;\n",
       "    }\n",
       "\n",
       "    .dataframe thead th {\n",
       "        text-align: right;\n",
       "    }\n",
       "</style>\n",
       "<table border=\"1\" class=\"dataframe\">\n",
       "  <thead>\n",
       "    <tr style=\"text-align: right;\">\n",
       "      <th></th>\n",
       "      <th>date</th>\n",
       "      <th>age</th>\n",
       "      <th>distance</th>\n",
       "      <th>stores</th>\n",
       "      <th>latitude</th>\n",
       "      <th>longitude</th>\n",
       "    </tr>\n",
       "  </thead>\n",
       "  <tbody>\n",
       "    <tr>\n",
       "      <th>0</th>\n",
       "      <td>0.015978</td>\n",
       "      <td>0.181384</td>\n",
       "      <td>1.257002</td>\n",
       "      <td>0.345224</td>\n",
       "      <td>-0.307212</td>\n",
       "      <td>-1.260799</td>\n",
       "    </tr>\n",
       "    <tr>\n",
       "      <th>1</th>\n",
       "      <td>-0.350485</td>\n",
       "      <td>-1.319118</td>\n",
       "      <td>-0.930610</td>\n",
       "      <td>-0.609312</td>\n",
       "      <td>0.325301</td>\n",
       "      <td>-1.260799</td>\n",
       "    </tr>\n",
       "    <tr>\n",
       "      <th>2</th>\n",
       "      <td>1.298598</td>\n",
       "      <td>-0.083410</td>\n",
       "      <td>-0.618094</td>\n",
       "      <td>0.663402</td>\n",
       "      <td>1.590328</td>\n",
       "      <td>-1.576456</td>\n",
       "    </tr>\n",
       "    <tr>\n",
       "      <th>3</th>\n",
       "      <td>-1.266643</td>\n",
       "      <td>-0.524735</td>\n",
       "      <td>-0.930610</td>\n",
       "      <td>-0.927491</td>\n",
       "      <td>-1.572238</td>\n",
       "      <td>0.948803</td>\n",
       "    </tr>\n",
       "    <tr>\n",
       "      <th>4</th>\n",
       "      <td>0.932135</td>\n",
       "      <td>0.534444</td>\n",
       "      <td>0.006938</td>\n",
       "      <td>0.981581</td>\n",
       "      <td>-1.255981</td>\n",
       "      <td>-0.945141</td>\n",
       "    </tr>\n",
       "  </tbody>\n",
       "</table>\n",
       "</div>"
      ],
      "text/plain": [
       "       date       age  distance    stores  latitude  longitude\n",
       "0  0.015978  0.181384  1.257002  0.345224 -0.307212  -1.260799\n",
       "1 -0.350485 -1.319118 -0.930610 -0.609312  0.325301  -1.260799\n",
       "2  1.298598 -0.083410 -0.618094  0.663402  1.590328  -1.576456\n",
       "3 -1.266643 -0.524735 -0.930610 -0.927491 -1.572238   0.948803\n",
       "4  0.932135  0.534444  0.006938  0.981581 -1.255981  -0.945141"
      ]
     },
     "execution_count": 14,
     "metadata": {},
     "output_type": "execute_result"
    }
   ],
   "source": [
    "#Drop price from the list of features, it is not a feature, it is the output?\n",
    "\n",
    "x = dfnorm.iloc[:, :6] # all the rows, but only the first 5 columns\n",
    "x.head()"
   ]
  },
  {
   "cell_type": "markdown",
   "metadata": {},
   "source": [
    "## 4.2: Select Labels"
   ]
  },
  {
   "cell_type": "code",
   "execution_count": 15,
   "metadata": {},
   "outputs": [
    {
     "data": {
      "text/plain": [
       "0       0.350088\n",
       "1      -1.836486\n",
       "2      -0.339584\n",
       "3      -1.839425\n",
       "4       0.245266\n",
       "5       0.372620\n",
       "6      -0.181860\n",
       "7       0.101258\n",
       "8       0.766439\n",
       "9      -1.211470\n",
       "10     -0.734382\n",
       "11     -0.289622\n",
       "12      0.545038\n",
       "13     -0.640336\n",
       "14     -0.347421\n",
       "15      0.915345\n",
       "16      0.340292\n",
       "17      0.060113\n",
       "18     -0.272968\n",
       "19      0.013089\n",
       "20      0.607736\n",
       "21     -0.052547\n",
       "22     -0.644254\n",
       "23      1.261161\n",
       "24      1.125970\n",
       "25      0.101258\n",
       "26     -0.536493\n",
       "27     -1.969718\n",
       "28      0.635166\n",
       "29      0.077746\n",
       "          ...   \n",
       "4970    1.033883\n",
       "4971    2.006673\n",
       "4972   -0.722626\n",
       "4973    1.701023\n",
       "4974   -0.116224\n",
       "4975   -1.016521\n",
       "4976    1.699064\n",
       "4977   -0.686379\n",
       "4978   -0.935210\n",
       "4979    0.778195\n",
       "4980    0.342251\n",
       "4981    0.160037\n",
       "4982    0.058153\n",
       "4983   -1.699335\n",
       "4984   -0.662868\n",
       "4985    0.054235\n",
       "4986   -0.545310\n",
       "4987   -0.455182\n",
       "4988   -0.532574\n",
       "4989   -0.022178\n",
       "4990    0.098319\n",
       "4991    0.079706\n",
       "4992    0.716477\n",
       "4993    1.479622\n",
       "4994   -0.053527\n",
       "4995   -0.360156\n",
       "4996    0.833055\n",
       "4997    0.191385\n",
       "4998    0.398091\n",
       "4999   -1.113506\n",
       "Name: price, Length: 5000, dtype: float64"
      ]
     },
     "execution_count": 15,
     "metadata": {},
     "output_type": "execute_result"
    }
   ],
   "source": [
    "y = dfnorm.iloc[:, -1]\n",
    "\n",
    "y"
   ]
  },
  {
   "cell_type": "markdown",
   "metadata": {},
   "source": [
    "## 4.3: Feature and Label Values\n",
    "\n",
    "We will need to extract just the numeric values for the features and labels as the TensorFlow model will expect just numeric values as input."
   ]
  },
  {
   "cell_type": "code",
   "execution_count": 16,
   "metadata": {},
   "outputs": [
    {
     "name": "stdout",
     "output_type": "stream",
     "text": [
      "features array shape: (5000, 6)\n",
      "labels array shape: (5000,)\n"
     ]
    }
   ],
   "source": [
    "x_arr = x.values # create an array?\n",
    "y_arr = y.values\n",
    "\n",
    "print('features array shape:', x_arr.shape)\n",
    "print('labels array shape:', y_arr.shape)"
   ]
  },
  {
   "cell_type": "markdown",
   "metadata": {},
   "source": [
    "## 4.4: Train and Test Split\n",
    "\n",
    "We will keep some part of the data aside as a __test__ set. The model will not use this set during training and it will be used only for checking the performance of the model in trained and un-trained states. This way, we can make sure that we are going in the right direction with our model training."
   ]
  },
  {
   "cell_type": "code",
   "execution_count": 17,
   "metadata": {},
   "outputs": [
    {
     "name": "stdout",
     "output_type": "stream",
     "text": [
      "(4750, 6) (4750,)\n",
      "(250, 6) (250,)\n"
     ]
    }
   ],
   "source": [
    "# Keep some part of the data as a test set, it will not be used as train.\n",
    "#if we train the model using all the examples we have, it is biased.\n",
    "\n",
    "#use traintest split, returns 4 variables.\n",
    "\n",
    "#xtrain and ytrain are features and labels for the training data\n",
    "#xtest and ytest are the features and labels for the testing data \n",
    "\n",
    "x_train, x_test, y_train, y_test = train_test_split(x_arr, y_arr, test_size = 0.05, random_state=0 ) \\\n",
    "#Use 5 percent of examples as test set\n",
    "\n",
    "print(x_train.shape, y_train.shape)\n",
    "\n",
    "print(x_test.shape,y_test.shape)"
   ]
  },
  {
   "cell_type": "markdown",
   "metadata": {},
   "source": [
    "# Task 5: Create the Model"
   ]
  },
  {
   "cell_type": "markdown",
   "metadata": {},
   "source": [
    "## 5.1: Create the Model\n",
    "\n",
    "Let's write a function that returns an untrained model of a certain architecture."
   ]
  },
  {
   "cell_type": "code",
   "execution_count": 20,
   "metadata": {},
   "outputs": [
    {
     "name": "stdout",
     "output_type": "stream",
     "text": [
      "_________________________________________________________________\n",
      "Layer (type)                 Output Shape              Param #   \n",
      "=================================================================\n",
      "dense_4 (Dense)              (None, 10)                70        \n",
      "_________________________________________________________________\n",
      "dense_5 (Dense)              (None, 20)                220       \n",
      "_________________________________________________________________\n",
      "dense_6 (Dense)              (None, 5)                 105       \n",
      "_________________________________________________________________\n",
      "dense_7 (Dense)              (None, 1)                 6         \n",
      "=================================================================\n",
      "Total params: 401\n",
      "Trainable params: 401\n",
      "Non-trainable params: 0\n",
      "_________________________________________________________________\n"
     ]
    }
   ],
   "source": [
    "##Use sequential models, you input the layers within the brackets.\n",
    "\n",
    "def get_model():\n",
    "    model = Sequential([\n",
    "        Dense(10,input_shape = (6,), activation = 'relu'), # 10 nodes, input share is list of 6 values, because we have 6 features\n",
    "        Dense(20, activation ='relu'), #20 nodes in this layer\n",
    "        Dense(5, activation = 'relu'), #5 nodes\n",
    "        Dense(1) #1 output \n",
    "    ])\n",
    "    \n",
    "    #before we can use a model, we need to compile it,\n",
    "    #need to specify a loss function,\n",
    "    #need to specific an optimizer, optimizer to minimize loss function.\n",
    "    \n",
    "    model.compile(\n",
    "    loss='mse',\n",
    "    optimizer = 'adam')\n",
    "    \n",
    "    return model \n",
    "\n",
    "get_model().summary()\n",
    "\n"
   ]
  },
  {
   "cell_type": "markdown",
   "metadata": {},
   "source": [
    "# Task 6: Model Training"
   ]
  },
  {
   "cell_type": "markdown",
   "metadata": {},
   "source": [
    "## 6.1: Model Training\n",
    "\n",
    "We can use an `EarlyStopping` callback from Keras to stop the model training if the validation loss stops decreasing for a few epochs."
   ]
  },
  {
   "cell_type": "code",
   "execution_count": 22,
   "metadata": {},
   "outputs": [
    {
     "name": "stdout",
     "output_type": "stream",
     "text": [
      "Train on 4750 samples, validate on 250 samples\n",
      "Epoch 1/100\n",
      "4750/4750 [==============================] - 1s 127us/sample - loss: 0.5804 - val_loss: 0.4065\n",
      "Epoch 2/100\n",
      "4750/4750 [==============================] - 0s 48us/sample - loss: 0.2899 - val_loss: 0.1951\n",
      "Epoch 3/100\n",
      "4750/4750 [==============================] - 0s 49us/sample - loss: 0.1909 - val_loss: 0.1637\n",
      "Epoch 4/100\n",
      "4750/4750 [==============================] - 0s 42us/sample - loss: 0.1744 - val_loss: 0.1563\n",
      "Epoch 5/100\n",
      "4750/4750 [==============================] - 0s 52us/sample - loss: 0.1674 - val_loss: 0.1561\n",
      "Epoch 6/100\n",
      "4750/4750 [==============================] - 0s 47us/sample - loss: 0.1638 - val_loss: 0.1529\n",
      "Epoch 7/100\n",
      "4750/4750 [==============================] - 0s 44us/sample - loss: 0.1605 - val_loss: 0.1532\n"
     ]
    }
   ],
   "source": [
    "## model will stop training early if it doesnt see any improvement. \n",
    "\n",
    "es_cb = EarlyStopping(monitor='val_loss') #Early stopping callback will monitor validation loss, \n",
    "#and wait for 5 epochs. If validation loss doesnt decrease for 5 epochs, it stops.\n",
    "\n",
    "model = get_model()\n",
    "preds_on_untrained = model.predict(x_test) # untrained model will give random values.\n",
    "\n",
    "history = model.fit(\n",
    "    x_train,y_train,\n",
    "    validation_data = (x_test,y_test),\n",
    "    epochs = 100,\n",
    "    callbacks = [es_cb]\n",
    ")"
   ]
  },
  {
   "cell_type": "markdown",
   "metadata": {},
   "source": [
    "## 6.2: Plot Training and Validation Loss\n",
    "\n",
    "Let's use the `plot_loss` helper function to take a look training and validation loss."
   ]
  },
  {
   "cell_type": "code",
   "execution_count": 23,
   "metadata": {},
   "outputs": [
    {
     "data": {
      "image/png": "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\n",
      "text/plain": [
       "<Figure size 576x576 with 1 Axes>"
      ]
     },
     "metadata": {
      "needs_background": "light"
     },
     "output_type": "display_data"
    }
   ],
   "source": [
    "plot_loss(history) #pass history object from model.fit"
   ]
  },
  {
   "cell_type": "markdown",
   "metadata": {},
   "source": [
    "# Task 7: Predictions"
   ]
  },
  {
   "cell_type": "markdown",
   "metadata": {},
   "source": [
    "## 7.1: Plot Raw Predictions\n",
    "\n",
    "Let's use the `compare_predictions` helper function to compare predictions from the model when it was untrained and when it was trained."
   ]
  },
  {
   "cell_type": "code",
   "execution_count": 24,
   "metadata": {},
   "outputs": [
    {
     "data": {
      "image/png": "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\n",
      "text/plain": [
       "<Figure size 576x576 with 1 Axes>"
      ]
     },
     "metadata": {
      "needs_background": "light"
     },
     "output_type": "display_data"
    }
   ],
   "source": [
    "preds_on_trained = model.predict(x_test)\n",
    "compare_predictions(preds_on_untrained,preds_on_trained,y_test)"
   ]
  },
  {
   "cell_type": "markdown",
   "metadata": {},
   "source": [
    "## 7.2: Plot Price Predictions\n",
    "\n",
    "The plot for price predictions and raw predictions will look the same with just one difference: The x and y axis scale is changed."
   ]
  },
  {
   "cell_type": "code",
   "execution_count": 27,
   "metadata": {},
   "outputs": [
    {
     "data": {
      "image/png": "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\n",
      "text/plain": [
       "<Figure size 576x576 with 1 Axes>"
      ]
     },
     "metadata": {
      "needs_background": "light"
     },
     "output_type": "display_data"
    }
   ],
   "source": [
    "#Data above is still normalized\n",
    "#algebra to solve for normalize equuation\n",
    "\n",
    "price_untrained = [convert_label_value(y) for y in preds_on_untrained]\n",
    "\n",
    "price_trained = [convert_label_value(y) for y in preds_on_trained]\n",
    "\n",
    "price_test = [convert_label_value(y) for y in y_test] #ground truth\n",
    "\n",
    "compare_predictions(price_untrained,price_trained,y_test)"
   ]
  },
  {
   "cell_type": "code",
   "execution_count": null,
   "metadata": {},
   "outputs": [],
   "source": []
  }
 ],
 "metadata": {
  "kernelspec": {
   "display_name": "Python 3",
   "language": "python",
   "name": "python3"
  },
  "language_info": {
   "codemirror_mode": {
    "name": "ipython",
    "version": 3
   },
   "file_extension": ".py",
   "mimetype": "text/x-python",
   "name": "python",
   "nbconvert_exporter": "python",
   "pygments_lexer": "ipython3",
   "version": "3.7.3"
  }
 },
 "nbformat": 4,
 "nbformat_minor": 2
}
