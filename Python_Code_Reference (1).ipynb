{
 "cells": [
  {
   "cell_type": "code",
   "execution_count": 8,
   "metadata": {},
   "outputs": [
    {
     "name": "stdout",
     "output_type": "stream",
     "text": [
      "Hello\n",
      "hellohellohello\n"
     ]
    }
   ],
   "source": [
    "#Chapter 1 - String manipulations\n",
    "\n",
    "hello = 'hello'.upper() #HELLO\n",
    "hello = 'hello'.lower() #hello\n",
    "hello = 'hello'.capitalize() #Hello\n",
    "print((hello))\n",
    "\n",
    "x = 'hello' #Multiplying strings\n",
    "y = 3\n",
    "print(x*y)"
   ]
  },
  {
   "cell_type": "code",
   "execution_count": 13,
   "metadata": {},
   "outputs": [
    {
     "name": "stdout",
     "output_type": "stream",
     "text": [
      "True\n",
      "90\n",
      "97\n"
     ]
    }
   ],
   "source": [
    "#Chapter 2 comparison operators \n",
    "\n",
    "# == #is equal to\n",
    "# != # is not equal to \n",
    "# <= \n",
    "# >= \n",
    "# <\n",
    "# >\n",
    "\n",
    "print('a' > 'Z') #Can compare strings, comparing the ordinal value of the strings\n",
    "print(ord('Z'))\n",
    "print(ord('a'))\n",
    "\n"
   ]
  },
  {
   "cell_type": "code",
   "execution_count": 15,
   "metadata": {},
   "outputs": [
    {
     "name": "stdout",
     "output_type": "stream",
     "text": [
      "True\n"
     ]
    }
   ],
   "source": [
    "#Chapter 3 Chain conditions\n",
    "x = 1\n",
    "y = 2\n",
    "z= 10\n",
    "\n",
    "result1 = x==y\n",
    "result2 = y > x \n",
    "result3 = z < x + 2 #will evaluate on each side of the operator\n",
    "\n",
    "\n",
    "result4 = result1 or result2 or result3\n",
    "print(result4)"
   ]
  },
  {
   "cell_type": "code",
   "execution_count": 25,
   "metadata": {},
   "outputs": [
    {
     "name": "stdin",
     "output_type": "stream",
     "text": [
      "Name:  joey\n"
     ]
    },
    {
     "name": "stdout",
     "output_type": "stream",
     "text": [
      "you are not a recognized student of the force\n"
     ]
    }
   ],
   "source": [
    "#Chapter 4 - If, Elif, Else \n",
    "\n",
    "x = input('Name: ')\n",
    "\n",
    "if x =='tim':\n",
    "    print(\"welcome tim - you are already very good programmer\")\n",
    "elif x == \"morgan\":\n",
    "    print(\"morgan, you need to work on your skills\")\n",
    "elif x == \"sarah\":\n",
    "    print(\"sarah, you are failing the course\")\n",
    "else:\n",
    "    print('you are not a recognized student of the force')\n",
    "\n"
   ]
  },
  {
   "cell_type": "code",
   "execution_count": 35,
   "metadata": {},
   "outputs": [
    {
     "name": "stdout",
     "output_type": "stream",
     "text": [
      "x =  [4, True, 'hi']\n",
      "3\n",
      "hi\n",
      "hello\n",
      "4\n",
      "[True, 'hi', 'hello']\n"
     ]
    }
   ],
   "source": [
    "#Chapter 5 - Lists and TUples\n",
    "x = [4, True, 'hi'] #example of a list, storing different type elements\n",
    "print(\"x = \", (x))\n",
    "\n",
    "print(len(x))\n",
    "print(x[2])\n",
    "\n",
    "x.append('hello')\n",
    "print(x[3])\n",
    "\n",
    "print(x.pop(0))\n",
    "print(x)\n",
    "\n",
    "#lists are mutable which means they can be changed."
   ]
  },
  {
   "cell_type": "code",
   "execution_count": 5,
   "metadata": {},
   "outputs": [
    {
     "name": "stdout",
     "output_type": "stream",
     "text": [
      "10\n",
      "9\n",
      "8\n",
      "7\n",
      "6\n",
      "5\n",
      "4\n",
      "3\n",
      "2\n",
      "1\n",
      "0\n"
     ]
    }
   ],
   "source": [
    "#Chapter 6 - For Loops \n",
    "\n",
    "for i in range(10,-1,-1): #range default - one number is stop number, it can take:start, stop, step\n",
    "    print(i)"
   ]
  },
  {
   "cell_type": "code",
   "execution_count": 6,
   "metadata": {},
   "outputs": [
    {
     "name": "stdout",
     "output_type": "stream",
     "text": [
      "Run\n",
      "Run\n",
      "Run\n",
      "Run\n",
      "Run\n",
      "Run\n",
      "Run\n",
      "Run\n",
      "Run\n",
      "Run\n"
     ]
    }
   ],
   "source": [
    "#Chapter 7 - WHile loops \n",
    "\n",
    "i = 0 \n",
    "while i < 10:\n",
    "    print('Run')\n",
    "    i+=1 "
   ]
  },
  {
   "cell_type": "code",
   "execution_count": 9,
   "metadata": {},
   "outputs": [
    {
     "name": "stdout",
     "output_type": "stream",
     "text": [
      "[4, 3]\n"
     ]
    }
   ],
   "source": [
    "#Chapter 8 - Slice Operator \n",
    "\n",
    "x = [0,1,2,3,4,5,6]\n",
    "y = ['hi','hello','goodbye','cya','sure']\n",
    "s = 'hello'\n",
    "\n",
    "sliced = x[4:2:-1] #[start:stop:step]\n",
    "print(sliced)"
   ]
  },
  {
   "cell_type": "code",
   "execution_count": 18,
   "metadata": {},
   "outputs": [
    {
     "name": "stdout",
     "output_type": "stream",
     "text": [
      "{32, 2, 4}\n",
      "{32, 2, 4, 5}\n",
      "{32, 2, 4}\n",
      "True\n",
      "False\n",
      "{32, 2, 99, 4, 6, 8}\n",
      "{32, 2}\n"
     ]
    }
   ],
   "source": [
    "#chapter 9 - sets \n",
    "\n",
    "x = set()#Use this if you are creating an empty set \n",
    "\n",
    "s = {4,32,2,2}\n",
    "\n",
    "s2 = {4,6,8,99}\n",
    "\n",
    "print(s) #uniques\n",
    "\n",
    "s.add(5)\n",
    "print(s)\n",
    "\n",
    "s.remove(5)\n",
    "print(s)\n",
    "\n",
    "print(4 in s)\n",
    "print(33 in s)\n",
    "\n",
    "print(s.union(s2))\n",
    "print(s.difference(s2))"
   ]
  },
  {
   "cell_type": "code",
   "execution_count": 24,
   "metadata": {},
   "outputs": [
    {
     "name": "stdout",
     "output_type": "stream",
     "text": [
      "{'key': 4, 'key2': 5, 2: [2, 2, 1, 1]}\n",
      "True\n",
      "[4, 5, [2, 2, 1, 1]]\n",
      "['key', 'key2', 2]\n"
     ]
    }
   ],
   "source": [
    "# Chapter 10 Dictionaries\n",
    "\n",
    "x = {'key': 4}  #pairing of keys and values\n",
    "\n",
    "x['key2'] = 5\n",
    "\n",
    "x[2] = [2,2,1,1]\n",
    "\n",
    "print(x)\n",
    "print('key' in x)\n",
    "print(list(x.values()))\n",
    "print(list(x.keys()))"
   ]
  },
  {
   "cell_type": "code",
   "execution_count": 25,
   "metadata": {},
   "outputs": [
    {
     "name": "stdout",
     "output_type": "stream",
     "text": [
      "[0, 1, 2, 3, 4]\n"
     ]
    }
   ],
   "source": [
    "# Chapter 11 - Comprehensions\n",
    "\n",
    "#one line initialization of a list, tuple, etc. \n",
    "\n",
    "x = [x for x in range(5)] #defining for loop inside list, loop through, add each element to the list.\n",
    "print(x)\n"
   ]
  },
  {
   "cell_type": "code",
   "execution_count": 32,
   "metadata": {},
   "outputs": [
    {
     "name": "stdout",
     "output_type": "stream",
     "text": [
      "Run 5 6\n"
     ]
    },
    {
     "data": {
      "text/plain": [
       "(30, 0.8333333333333334)"
      ]
     },
     "execution_count": 32,
     "metadata": {},
     "output_type": "execute_result"
    }
   ],
   "source": [
    "#Chapter 12 - Functions\n",
    "\n",
    "def func(x,y):\n",
    "    print(\"Run\", x, y)\n",
    "    return x * y, x / y\n",
    "func(5,6)"
   ]
  },
  {
   "cell_type": "code",
   "execution_count": null,
   "metadata": {},
   "outputs": [],
   "source": []
  }
 ],
 "metadata": {
  "kernelspec": {
   "display_name": "Python 3",
   "language": "python",
   "name": "python3"
  },
  "language_info": {
   "codemirror_mode": {
    "name": "ipython",
    "version": 3
   },
   "file_extension": ".py",
   "mimetype": "text/x-python",
   "name": "python",
   "nbconvert_exporter": "python",
   "pygments_lexer": "ipython3",
   "version": "3.8.5"
  }
 },
 "nbformat": 4,
 "nbformat_minor": 4
}
