{
 "cells": [
  {
   "cell_type": "code",
   "execution_count": 30,
   "metadata": {},
   "outputs": [],
   "source": [
    "import pandas as pd\n",
    "import numpy as np\n",
    "import matplotlib.pyplot as plt\n",
    "import seaborn as sns"
   ]
  },
  {
   "cell_type": "code",
   "execution_count": 20,
   "metadata": {},
   "outputs": [
    {
     "name": "stdout",
     "output_type": "stream",
     "text": [
      "<class 'pandas.core.frame.DataFrame'>\n",
      "RangeIndex: 136 entries, 0 to 135\n",
      "Data columns (total 49 columns):\n",
      " #   Column             Non-Null Count  Dtype         \n",
      "---  ------             --------------  -----         \n",
      " 0   Name               136 non-null    object        \n",
      " 1   Description        136 non-null    object        \n",
      " 2   Is Stamped         136 non-null    object        \n",
      " 3   Site               136 non-null    int64         \n",
      " 4   Batch #            0 non-null      float64       \n",
      " 5   Business           61 non-null     object        \n",
      " 6   Category           61 non-null     object        \n",
      " 7   Form               136 non-null    object        \n",
      " 8   Type               136 non-null    object        \n",
      " 9   Type Description   136 non-null    object        \n",
      " 10  Number             136 non-null    object        \n",
      " 11  Is Mirabel         136 non-null    object        \n",
      " 12  Pool               136 non-null    object        \n",
      " 13  QA Status          136 non-null    object        \n",
      " 14  Description.1      136 non-null    object        \n",
      " 15  Non Nettable       136 non-null    object        \n",
      " 16  GMP                8 non-null      object        \n",
      " 17  Lot Size           136 non-null    float64       \n",
      " 18  Allocated          136 non-null    int64         \n",
      " 19  Available          136 non-null    float64       \n",
      " 20  UOM                136 non-null    object        \n",
      " 21  Warehouse          136 non-null    object        \n",
      " 22  ID                 136 non-null    object        \n",
      " 23  Strain Code        126 non-null    object        \n",
      " 24  THC %              136 non-null    int64         \n",
      " 25  Max THC            136 non-null    float64       \n",
      " 26  Min THC            136 non-null    float64       \n",
      " 27  CBD %              136 non-null    int64         \n",
      " 28  Max CBD            136 non-null    float64       \n",
      " 29  Min CBD            136 non-null    float64       \n",
      " 30  Category.1         89 non-null     object        \n",
      " 31  THC %.1            136 non-null    float64       \n",
      " 32  CBD %.1            136 non-null    float64       \n",
      " 33  Label THC          20 non-null     object        \n",
      " 34  Label CBD          20 non-null     object        \n",
      " 35  Grade              19 non-null     object        \n",
      " 36   As Actual         136 non-null    object        \n",
      " 37  THC                136 non-null    object        \n",
      " 38  CBD                136 non-null    object        \n",
      " 39  Manufactured       0 non-null      float64       \n",
      " 40  Expiry             136 non-null    object        \n",
      " 41  Days Remaining     136 non-null    int64         \n",
      " 42  Expiry QTY         136 non-null    float64       \n",
      " 43  Pack Date          136 non-null    datetime64[ns]\n",
      " 44  Days Since Packed  136 non-null    int64         \n",
      " 45  Std Cost           136 non-null    float64       \n",
      " 46  (Std Cost)         136 non-null    float64       \n",
      " 47  Date Change        136 non-null    datetime64[ns]\n",
      " 48  Where Used         136 non-null    int64         \n",
      "dtypes: datetime64[ns](2), float64(13), int64(7), object(27)\n",
      "memory usage: 52.2+ KB\n"
     ]
    }
   ],
   "source": [
    "#manufacture_data.xlsx\n",
    "\n",
    "df = pd.read_excel(\"manufacture_data.xlsx\")\n",
    "\n",
    "df.info()\n",
    "\n"
   ]
  },
  {
   "cell_type": "code",
   "execution_count": 21,
   "metadata": {},
   "outputs": [
    {
     "data": {
      "text/html": [
       "<div>\n",
       "<style scoped>\n",
       "    .dataframe tbody tr th:only-of-type {\n",
       "        vertical-align: middle;\n",
       "    }\n",
       "\n",
       "    .dataframe tbody tr th {\n",
       "        vertical-align: top;\n",
       "    }\n",
       "\n",
       "    .dataframe thead th {\n",
       "        text-align: right;\n",
       "    }\n",
       "</style>\n",
       "<table border=\"1\" class=\"dataframe\">\n",
       "  <thead>\n",
       "    <tr style=\"text-align: right;\">\n",
       "      <th></th>\n",
       "      <th>Name</th>\n",
       "      <th>Description</th>\n",
       "      <th>Is Stamped</th>\n",
       "      <th>Site</th>\n",
       "      <th>Batch #</th>\n",
       "      <th>Business</th>\n",
       "      <th>Category</th>\n",
       "      <th>Form</th>\n",
       "      <th>Type</th>\n",
       "      <th>Type Description</th>\n",
       "      <th>...</th>\n",
       "      <th>Manufactured</th>\n",
       "      <th>Expiry</th>\n",
       "      <th>Days Remaining</th>\n",
       "      <th>Expiry QTY</th>\n",
       "      <th>Pack Date</th>\n",
       "      <th>Days Since Packed</th>\n",
       "      <th>Std Cost</th>\n",
       "      <th>(Std Cost)</th>\n",
       "      <th>Date Change</th>\n",
       "      <th>Where Used</th>\n",
       "    </tr>\n",
       "  </thead>\n",
       "  <tbody>\n",
       "    <tr>\n",
       "      <th>0</th>\n",
       "      <td>101168</td>\n",
       "      <td>G - Penlpe CAP 10 mg THC, x15</td>\n",
       "      <td>N</td>\n",
       "      <td>10001</td>\n",
       "      <td>NaN</td>\n",
       "      <td>Beverages &amp; Edibles</td>\n",
       "      <td>Edible Extracts</td>\n",
       "      <td>Soft Gel</td>\n",
       "      <td>1G040</td>\n",
       "      <td>Rec Generic - Pills</td>\n",
       "      <td>...</td>\n",
       "      <td>NaN</td>\n",
       "      <td>Future</td>\n",
       "      <td>65535</td>\n",
       "      <td>11520.0</td>\n",
       "      <td>2022-02-14</td>\n",
       "      <td>1</td>\n",
       "      <td>5.60656</td>\n",
       "      <td>64587.5712</td>\n",
       "      <td>2022-02-14</td>\n",
       "      <td>0</td>\n",
       "    </tr>\n",
       "    <tr>\n",
       "      <th>1</th>\n",
       "      <td>101273</td>\n",
       "      <td>G - TwD. Indica Bud 3.5 g</td>\n",
       "      <td>N</td>\n",
       "      <td>10001</td>\n",
       "      <td>NaN</td>\n",
       "      <td>Flower</td>\n",
       "      <td>Flower - M.S. &amp; Val.</td>\n",
       "      <td>Bud</td>\n",
       "      <td>1G010</td>\n",
       "      <td>Rec Generic - Bud</td>\n",
       "      <td>...</td>\n",
       "      <td>NaN</td>\n",
       "      <td>Future</td>\n",
       "      <td>65535</td>\n",
       "      <td>19000.0</td>\n",
       "      <td>2022-02-08</td>\n",
       "      <td>7</td>\n",
       "      <td>7.76821</td>\n",
       "      <td>147595.9900</td>\n",
       "      <td>2022-02-09</td>\n",
       "      <td>144</td>\n",
       "    </tr>\n",
       "    <tr>\n",
       "      <th>2</th>\n",
       "      <td>101273</td>\n",
       "      <td>G - TwD. Indica Bud 3.5 g</td>\n",
       "      <td>N</td>\n",
       "      <td>10001</td>\n",
       "      <td>NaN</td>\n",
       "      <td>Flower</td>\n",
       "      <td>Flower - M.S. &amp; Val.</td>\n",
       "      <td>Bud</td>\n",
       "      <td>1G010</td>\n",
       "      <td>Rec Generic - Bud</td>\n",
       "      <td>...</td>\n",
       "      <td>NaN</td>\n",
       "      <td>Future</td>\n",
       "      <td>65535</td>\n",
       "      <td>1320.0</td>\n",
       "      <td>2022-02-15</td>\n",
       "      <td>0</td>\n",
       "      <td>7.76821</td>\n",
       "      <td>10254.0372</td>\n",
       "      <td>2022-02-15</td>\n",
       "      <td>10</td>\n",
       "    </tr>\n",
       "    <tr>\n",
       "      <th>3</th>\n",
       "      <td>101276</td>\n",
       "      <td>G - TwD. Sativa Bud 3.5 g</td>\n",
       "      <td>N</td>\n",
       "      <td>10001</td>\n",
       "      <td>NaN</td>\n",
       "      <td>Flower</td>\n",
       "      <td>Flower - M.S. &amp; Val.</td>\n",
       "      <td>Bud</td>\n",
       "      <td>1G010</td>\n",
       "      <td>Rec Generic - Bud</td>\n",
       "      <td>...</td>\n",
       "      <td>NaN</td>\n",
       "      <td>Future</td>\n",
       "      <td>65535</td>\n",
       "      <td>19000.0</td>\n",
       "      <td>2022-02-07</td>\n",
       "      <td>8</td>\n",
       "      <td>7.76821</td>\n",
       "      <td>147595.9900</td>\n",
       "      <td>2022-02-08</td>\n",
       "      <td>144</td>\n",
       "    </tr>\n",
       "    <tr>\n",
       "      <th>4</th>\n",
       "      <td>101276</td>\n",
       "      <td>G - TwD. Sativa Bud 3.5 g</td>\n",
       "      <td>N</td>\n",
       "      <td>10001</td>\n",
       "      <td>NaN</td>\n",
       "      <td>Flower</td>\n",
       "      <td>Flower - M.S. &amp; Val.</td>\n",
       "      <td>Bud</td>\n",
       "      <td>1G010</td>\n",
       "      <td>Rec Generic - Bud</td>\n",
       "      <td>...</td>\n",
       "      <td>NaN</td>\n",
       "      <td>Future</td>\n",
       "      <td>65535</td>\n",
       "      <td>19000.0</td>\n",
       "      <td>2022-02-14</td>\n",
       "      <td>1</td>\n",
       "      <td>7.76821</td>\n",
       "      <td>147595.9900</td>\n",
       "      <td>2022-02-14</td>\n",
       "      <td>144</td>\n",
       "    </tr>\n",
       "  </tbody>\n",
       "</table>\n",
       "<p>5 rows × 49 columns</p>\n",
       "</div>"
      ],
      "text/plain": [
       "     Name                    Description Is Stamped   Site  Batch #  \\\n",
       "0  101168  G - Penlpe CAP 10 mg THC, x15          N  10001      NaN   \n",
       "1  101273      G - TwD. Indica Bud 3.5 g          N  10001      NaN   \n",
       "2  101273      G - TwD. Indica Bud 3.5 g          N  10001      NaN   \n",
       "3  101276      G - TwD. Sativa Bud 3.5 g          N  10001      NaN   \n",
       "4  101276      G - TwD. Sativa Bud 3.5 g          N  10001      NaN   \n",
       "\n",
       "              Business              Category      Form   Type  \\\n",
       "0  Beverages & Edibles       Edible Extracts  Soft Gel  1G040   \n",
       "1               Flower  Flower - M.S. & Val.       Bud  1G010   \n",
       "2               Flower  Flower - M.S. & Val.       Bud  1G010   \n",
       "3               Flower  Flower - M.S. & Val.       Bud  1G010   \n",
       "4               Flower  Flower - M.S. & Val.       Bud  1G010   \n",
       "\n",
       "      Type Description  ... Manufactured  Expiry Days Remaining Expiry QTY  \\\n",
       "0  Rec Generic - Pills  ...          NaN  Future          65535    11520.0   \n",
       "1    Rec Generic - Bud  ...          NaN  Future          65535    19000.0   \n",
       "2    Rec Generic - Bud  ...          NaN  Future          65535     1320.0   \n",
       "3    Rec Generic - Bud  ...          NaN  Future          65535    19000.0   \n",
       "4    Rec Generic - Bud  ...          NaN  Future          65535    19000.0   \n",
       "\n",
       "   Pack Date Days Since Packed Std Cost   (Std Cost)  Date Change  Where Used  \n",
       "0 2022-02-14                 1  5.60656   64587.5712   2022-02-14           0  \n",
       "1 2022-02-08                 7  7.76821  147595.9900   2022-02-09         144  \n",
       "2 2022-02-15                 0  7.76821   10254.0372   2022-02-15          10  \n",
       "3 2022-02-07                 8  7.76821  147595.9900   2022-02-08         144  \n",
       "4 2022-02-14                 1  7.76821  147595.9900   2022-02-14         144  \n",
       "\n",
       "[5 rows x 49 columns]"
      ]
     },
     "execution_count": 21,
     "metadata": {},
     "output_type": "execute_result"
    }
   ],
   "source": [
    "df.head()"
   ]
  },
  {
   "cell_type": "code",
   "execution_count": 31,
   "metadata": {},
   "outputs": [
    {
     "name": "stderr",
     "output_type": "stream",
     "text": [
      "C:\\Users\\jmken\\anaconda3\\lib\\site-packages\\seaborn\\_decorators.py:36: FutureWarning: Pass the following variable as a keyword arg: x. From version 0.12, the only valid positional argument will be `data`, and passing other arguments without an explicit keyword will result in an error or misinterpretation.\n",
      "  warnings.warn(\n"
     ]
    },
    {
     "data": {
      "text/plain": [
       "<AxesSubplot:xlabel='QA Status', ylabel='count'>"
      ]
     },
     "execution_count": 31,
     "metadata": {},
     "output_type": "execute_result"
    },
    {
     "data": {
      "image/png": "[encoded data removed]",
      "text/plain": [
       "<Figure size 432x288 with 1 Axes>"
      ]
     },
     "metadata": {
      "needs_background": "light"
     },
     "output_type": "display_data"
    }
   ],
   "source": [
    "sns.countplot(df[\"QA Status\"])"
   ]
  },
  {
   "cell_type": "code",
   "execution_count": 35,
   "metadata": {},
   "outputs": [
    {
     "data": {
      "text/plain": [
       "<AxesSubplot:xlabel='QA Status', ylabel='(Std Cost)'>"
      ]
     },
     "execution_count": 35,
     "metadata": {},
     "output_type": "execute_result"
    },
    {
     "data": {
      "image/png": "[encoded data removed]",
      "text/plain": [
       "<Figure size 432x288 with 1 Axes>"
      ]
     },
     "metadata": {
      "needs_background": "light"
     },
     "output_type": "display_data"
    }
   ],
   "source": [
    "sns.boxplot(x=df[\"QA Status\"], y =df[\"(Std Cost)\"])"
   ]
  },
  {
   "cell_type": "code",
   "execution_count": null,
   "metadata": {},
   "outputs": [],
   "source": []
  }
 ],
 "metadata": {
  "kernelspec": {
   "display_name": "Python 3",
   "language": "python",
   "name": "python3"
  },
  "language_info": {
   "codemirror_mode": {
    "name": "ipython",
    "version": 3
   },
   "file_extension": ".py",
   "mimetype": "text/x-python",
   "name": "python",
   "nbconvert_exporter": "python",
   "pygments_lexer": "ipython3",
   "version": "3.8.5"
  }
 },
 "nbformat": 4,
 "nbformat_minor": 4
}
